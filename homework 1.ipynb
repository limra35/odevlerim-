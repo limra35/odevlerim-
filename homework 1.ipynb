{
 "cells": [
  {
   "cell_type": "code",
   "execution_count": 19,
   "metadata": {},
   "outputs": [
    {
     "name": "stdout",
     "output_type": "stream",
     "text": [
      "Hello, my name is Asli Yilmaz and I am 27 years old. I live in America and I like swimming.\n"
     ]
    }
   ],
   "source": [
    "name=\"Asli\"\n",
    "lastname=\"Yilmaz\"\n",
    "age=27\n",
    "country=\"America\"\n",
    "hobby=\"swimming\"\n",
    "print (f'Hello, my name is {name} {lastname} and I am {age} years old. I live in {country} and I like {hobby}.')"
   ]
  },
  {
   "cell_type": "code",
   "execution_count": null,
   "metadata": {},
   "outputs": [],
   "source": []
  }
 ],
 "metadata": {
  "kernelspec": {
   "display_name": "Python 3",
   "language": "python",
   "name": "python3"
  },
  "language_info": {
   "codemirror_mode": {
    "name": "ipython",
    "version": 3
   },
   "file_extension": ".py",
   "mimetype": "text/x-python",
   "name": "python",
   "nbconvert_exporter": "python",
   "pygments_lexer": "ipython3",
   "version": "3.8.5"
  }
 },
 "nbformat": 4,
 "nbformat_minor": 4
}
