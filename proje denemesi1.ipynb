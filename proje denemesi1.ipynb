{
 "cells": [
  {
   "cell_type": "code",
   "execution_count": null,
   "metadata": {},
   "outputs": [
    {
     "name": "stdout",
     "output_type": "stream",
     "text": [
      "Enter your name : smdk\n",
      "Enter surname : ded\n",
      "Please try again later!\n",
      "Enter your name : Asli\n",
      "Enter surname : Yilmaz\n",
      "Welcome\n"
     ]
    }
   ],
   "source": [
    "name=\"Asli\"\n",
    " \n",
    "surname =\"Yilmaz\"\n",
    " \n",
    "times=3\n",
    " \n",
    "while times>0:\n",
    "    times -=1\n",
    " \n",
    "    name1 = input(\"Enter your name : \")\n",
    " \n",
    "    surname1 = input(\"Enter surname : \")\n",
    " \n",
    "    if name1==name and surname1== surname:\n",
    " \n",
    "        print(\"Welcome\")\n",
    " \n",
    "    else:\n",
    " \n",
    "        print(\"Please try again later!\")"
   ]
  },
  {
   "cell_type": "code",
   "execution_count": null,
   "metadata": {},
   "outputs": [],
   "source": [
    "#ilk defa yazilim ile ilgili bir program ile tanistim. \n",
    "#bu odevin de ancak bu kismina kadar yapabildim maalesef. fakat cok guzelve verimli bir egitim oldu.\n",
    "#tesekkurler. \n"
   ]
  }
 ],
 "metadata": {
  "kernelspec": {
   "display_name": "Python 3",
   "language": "python",
   "name": "python3"
  },
  "language_info": {
   "codemirror_mode": {
    "name": "ipython",
    "version": 3
   },
   "file_extension": ".py",
   "mimetype": "text/x-python",
   "name": "python",
   "nbconvert_exporter": "python",
   "pygments_lexer": "ipython3",
   "version": "3.8.5"
  }
 },
 "nbformat": 4,
 "nbformat_minor": 4
}
