{
 "cells": [
  {
   "cell_type": "code",
   "execution_count": 4,
   "metadata": {},
   "outputs": [
    {
     "name": "stdout",
     "output_type": "stream",
     "text": [
      "first name:Ayse\n",
      "last name:Yilmaz\n",
      "age:35\n",
      "date of birth:1985\n",
      "You can go out to the street.\n"
     ]
    }
   ],
   "source": [
    "a = input(\"first name:\")\n",
    "b = input(\"last name:\")\n",
    "x = input(\"age:\")\n",
    "i = input(\"date of birth:\")\n",
    "\n",
    "if(int(x)<18):\n",
    "    print(\"You can'not go out because it's too dangerous.\")\n",
    "else:\n",
    "    print(\"You can go out to the street.\")"
   ]
  },
  {
   "cell_type": "code",
   "execution_count": null,
   "metadata": {},
   "outputs": [],
   "source": []
  }
 ],
 "metadata": {
  "kernelspec": {
   "display_name": "Python 3",
   "language": "python",
   "name": "python3"
  },
  "language_info": {
   "codemirror_mode": {
    "name": "ipython",
    "version": 3
   },
   "file_extension": ".py",
   "mimetype": "text/x-python",
   "name": "python",
   "nbconvert_exporter": "python",
   "pygments_lexer": "ipython3",
   "version": "3.8.5"
  }
 },
 "nbformat": 4,
 "nbformat_minor": 4
}
